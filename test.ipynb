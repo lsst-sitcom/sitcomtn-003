{
 "cells": [
  {
   "cell_type": "code",
   "execution_count": 2,
   "metadata": {},
   "outputs": [],
   "source": [
    "def m2fea2m2cs(x,y,z):\n",
    "    return -y,-x,-z\n",
    "def ocs2zcs(x,y,z):\n",
    "    return -x,y,-z\n",
    "\n",
    "def m2fea2zcs(x,y,z):\n",
    "    return y, -x, z"
   ]
  },
  {
   "cell_type": "code",
   "execution_count": 6,
   "metadata": {},
   "outputs": [
    {
     "name": "stdout",
     "output_type": "stream",
     "text": [
      "2 -1 3\n",
      "2 -1 3\n"
     ]
    }
   ],
   "source": [
    "a,b,c = m2fea2m2cs(1,2,3)\n",
    "a,b,c = ocs2zcs(a,b,c)\n",
    "print(a,b,c)\n",
    "a,b,c = m2fea2zcs(1,2,3)\n",
    "print(a,b,c)"
   ]
  },
  {
   "cell_type": "code",
   "execution_count": null,
   "metadata": {},
   "outputs": [],
   "source": []
  }
 ],
 "metadata": {
  "kernelspec": {
   "display_name": "Python 3",
   "language": "python",
   "name": "python3"
  },
  "language_info": {
   "codemirror_mode": {
    "name": "ipython",
    "version": 3
   },
   "file_extension": ".py",
   "mimetype": "text/x-python",
   "name": "python",
   "nbconvert_exporter": "python",
   "pygments_lexer": "ipython3",
   "version": "3.7.4"
  }
 },
 "nbformat": 4,
 "nbformat_minor": 2
}
